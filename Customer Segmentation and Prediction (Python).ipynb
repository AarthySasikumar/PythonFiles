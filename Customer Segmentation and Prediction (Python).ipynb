{
 "cells": [
  {
   "cell_type": "markdown",
   "id": "bbf08b26",
   "metadata": {},
   "source": [
    "# 1. Importing the dependencies"
   ]
  },
  {
   "cell_type": "code",
   "execution_count": 1,
   "id": "0e7e2edb",
   "metadata": {},
   "outputs": [],
   "source": [
    "import numpy as np\n",
    "import pandas as pd\n",
    "import matplotlib.pyplot as plt\n",
    "import seaborn as sns"
   ]
  },
  {
   "cell_type": "markdown",
   "id": "bbecb0e3",
   "metadata": {},
   "source": [
    "# 2. Data Loading and Understanding"
   ]
  },
  {
   "cell_type": "code",
   "execution_count": 9,
   "id": "ebba1d14",
   "metadata": {},
   "outputs": [],
   "source": [
    "# load the excel data to a pandas dataframe\n",
    "df = pd.read_excel(\"Online Retail.xlsx\")"
   ]
  },
  {
   "cell_type": "code",
   "execution_count": 3,
   "id": "107ef330",
   "metadata": {},
   "outputs": [
    {
     "data": {
      "text/plain": [
       "(541909, 8)"
      ]
     },
     "execution_count": 3,
     "metadata": {},
     "output_type": "execute_result"
    }
   ],
   "source": [
    "df.shape"
   ]
  },
  {
   "cell_type": "code",
   "execution_count": 4,
   "id": "f6f07353",
   "metadata": {},
   "outputs": [
    {
     "data": {
      "text/html": [
       "<div>\n",
       "<style scoped>\n",
       "    .dataframe tbody tr th:only-of-type {\n",
       "        vertical-align: middle;\n",
       "    }\n",
       "\n",
       "    .dataframe tbody tr th {\n",
       "        vertical-align: top;\n",
       "    }\n",
       "\n",
       "    .dataframe thead th {\n",
       "        text-align: right;\n",
       "    }\n",
       "</style>\n",
       "<table border=\"1\" class=\"dataframe\">\n",
       "  <thead>\n",
       "    <tr style=\"text-align: right;\">\n",
       "      <th></th>\n",
       "      <th>InvoiceNo</th>\n",
       "      <th>StockCode</th>\n",
       "      <th>Description</th>\n",
       "      <th>Quantity</th>\n",
       "      <th>InvoiceDate</th>\n",
       "      <th>UnitPrice</th>\n",
       "      <th>CustomerID</th>\n",
       "      <th>Country</th>\n",
       "    </tr>\n",
       "  </thead>\n",
       "  <tbody>\n",
       "    <tr>\n",
       "      <th>0</th>\n",
       "      <td>536365</td>\n",
       "      <td>85123A</td>\n",
       "      <td>WHITE HANGING HEART T-LIGHT HOLDER</td>\n",
       "      <td>6</td>\n",
       "      <td>2010-12-01 08:26:00</td>\n",
       "      <td>2.55</td>\n",
       "      <td>17850.0</td>\n",
       "      <td>United Kingdom</td>\n",
       "    </tr>\n",
       "    <tr>\n",
       "      <th>1</th>\n",
       "      <td>536365</td>\n",
       "      <td>71053</td>\n",
       "      <td>WHITE METAL LANTERN</td>\n",
       "      <td>6</td>\n",
       "      <td>2010-12-01 08:26:00</td>\n",
       "      <td>3.39</td>\n",
       "      <td>17850.0</td>\n",
       "      <td>United Kingdom</td>\n",
       "    </tr>\n",
       "    <tr>\n",
       "      <th>2</th>\n",
       "      <td>536365</td>\n",
       "      <td>84406B</td>\n",
       "      <td>CREAM CUPID HEARTS COAT HANGER</td>\n",
       "      <td>8</td>\n",
       "      <td>2010-12-01 08:26:00</td>\n",
       "      <td>2.75</td>\n",
       "      <td>17850.0</td>\n",
       "      <td>United Kingdom</td>\n",
       "    </tr>\n",
       "    <tr>\n",
       "      <th>3</th>\n",
       "      <td>536365</td>\n",
       "      <td>84029G</td>\n",
       "      <td>KNITTED UNION FLAG HOT WATER BOTTLE</td>\n",
       "      <td>6</td>\n",
       "      <td>2010-12-01 08:26:00</td>\n",
       "      <td>3.39</td>\n",
       "      <td>17850.0</td>\n",
       "      <td>United Kingdom</td>\n",
       "    </tr>\n",
       "    <tr>\n",
       "      <th>4</th>\n",
       "      <td>536365</td>\n",
       "      <td>84029E</td>\n",
       "      <td>RED WOOLLY HOTTIE WHITE HEART.</td>\n",
       "      <td>6</td>\n",
       "      <td>2010-12-01 08:26:00</td>\n",
       "      <td>3.39</td>\n",
       "      <td>17850.0</td>\n",
       "      <td>United Kingdom</td>\n",
       "    </tr>\n",
       "  </tbody>\n",
       "</table>\n",
       "</div>"
      ],
      "text/plain": [
       "  InvoiceNo StockCode                          Description  Quantity  \\\n",
       "0    536365    85123A   WHITE HANGING HEART T-LIGHT HOLDER         6   \n",
       "1    536365     71053                  WHITE METAL LANTERN         6   \n",
       "2    536365    84406B       CREAM CUPID HEARTS COAT HANGER         8   \n",
       "3    536365    84029G  KNITTED UNION FLAG HOT WATER BOTTLE         6   \n",
       "4    536365    84029E       RED WOOLLY HOTTIE WHITE HEART.         6   \n",
       "\n",
       "          InvoiceDate  UnitPrice  CustomerID         Country  \n",
       "0 2010-12-01 08:26:00       2.55     17850.0  United Kingdom  \n",
       "1 2010-12-01 08:26:00       3.39     17850.0  United Kingdom  \n",
       "2 2010-12-01 08:26:00       2.75     17850.0  United Kingdom  \n",
       "3 2010-12-01 08:26:00       3.39     17850.0  United Kingdom  \n",
       "4 2010-12-01 08:26:00       3.39     17850.0  United Kingdom  "
      ]
     },
     "execution_count": 4,
     "metadata": {},
     "output_type": "execute_result"
    }
   ],
   "source": [
    "# Display the first few rows of the dataset to understand its structure\n",
    "df.head()"
   ]
  },
  {
   "cell_type": "code",
   "execution_count": 5,
   "id": "e96c4a51",
   "metadata": {},
   "outputs": [],
   "source": [
    "pd.set_option(\"display.max_columns\", None)"
   ]
  },
  {
   "cell_type": "code",
   "execution_count": 6,
   "id": "9dfb36a0",
   "metadata": {},
   "outputs": [
    {
     "name": "stdout",
     "output_type": "stream",
     "text": [
      "<class 'pandas.core.frame.DataFrame'>\n",
      "RangeIndex: 541909 entries, 0 to 541908\n",
      "Data columns (total 8 columns):\n",
      " #   Column       Non-Null Count   Dtype         \n",
      "---  ------       --------------   -----         \n",
      " 0   InvoiceNo    541909 non-null  object        \n",
      " 1   StockCode    541909 non-null  object        \n",
      " 2   Description  540455 non-null  object        \n",
      " 3   Quantity     541909 non-null  int64         \n",
      " 4   InvoiceDate  541909 non-null  datetime64[ns]\n",
      " 5   UnitPrice    541909 non-null  float64       \n",
      " 6   CustomerID   406829 non-null  float64       \n",
      " 7   Country      541909 non-null  object        \n",
      "dtypes: datetime64[ns](1), float64(2), int64(1), object(4)\n",
      "memory usage: 33.1+ MB\n"
     ]
    }
   ],
   "source": [
    "df.info()"
   ]
  },
  {
   "cell_type": "code",
   "execution_count": 10,
   "id": "2119874d",
   "metadata": {},
   "outputs": [
    {
     "data": {
      "text/plain": [
       "Index(['InvoiceNo', 'StockCode', 'Description', 'Quantity', 'InvoiceDate',\n",
       "       'UnitPrice', 'CustomerID', 'Country'],\n",
       "      dtype='object')"
      ]
     },
     "execution_count": 10,
     "metadata": {},
     "output_type": "execute_result"
    }
   ],
   "source": [
    "df.columns"
   ]
  },
  {
   "cell_type": "code",
   "execution_count": 11,
   "id": "ba1f0122",
   "metadata": {},
   "outputs": [
    {
     "name": "stdout",
     "output_type": "stream",
     "text": [
      "InvoiceNo           0\n",
      "StockCode           0\n",
      "Description      1454\n",
      "Quantity            0\n",
      "InvoiceDate         0\n",
      "UnitPrice           0\n",
      "CustomerID     135080\n",
      "Country             0\n",
      "dtype: int64\n"
     ]
    }
   ],
   "source": [
    "print(df.isnull().sum())"
   ]
  },
  {
   "cell_type": "markdown",
   "id": "41fad0b8",
   "metadata": {},
   "source": [
    "# 3. Data Cleaning"
   ]
  },
  {
   "cell_type": "code",
   "execution_count": 13,
   "id": "a75231c5",
   "metadata": {},
   "outputs": [],
   "source": [
    "# Load a manageable chunk of the full dataset (e.g., 50,000 rows) for processing\n",
    "df = pd.read_excel(\"Online Retail.xlsx\", nrows=50000)"
   ]
  },
  {
   "cell_type": "code",
   "execution_count": 14,
   "id": "059e75c3",
   "metadata": {},
   "outputs": [],
   "source": [
    "# Drop rows with missing CustomerID or Description\n",
    "df_cleaned = df.dropna(subset=[\"CustomerID\", \"Description\"])"
   ]
  },
  {
   "cell_type": "code",
   "execution_count": 15,
   "id": "e8c6365f",
   "metadata": {},
   "outputs": [],
   "source": [
    "# Remove duplicates\n",
    "df_cleaned = df_cleaned.drop_duplicates()"
   ]
  },
  {
   "cell_type": "code",
   "execution_count": 16,
   "id": "43330c71",
   "metadata": {},
   "outputs": [],
   "source": [
    "# Remove negative or zero quantities and unit prices (returns or errors)\n",
    "df_cleaned = df_cleaned[(df_cleaned[\"Quantity\"] > 0) & (df_cleaned[\"UnitPrice\"] > 0)]"
   ]
  },
  {
   "cell_type": "code",
   "execution_count": 17,
   "id": "e703a0a8",
   "metadata": {},
   "outputs": [],
   "source": [
    "# Add TotalPrice column\n",
    "df_cleaned[\"TotalPrice\"] = df_cleaned[\"Quantity\"] * df_cleaned[\"UnitPrice\"]"
   ]
  },
  {
   "cell_type": "code",
   "execution_count": 18,
   "id": "45b6a03d",
   "metadata": {},
   "outputs": [],
   "source": [
    "# Convert InvoiceDate to datetime\n",
    "df_cleaned[\"InvoiceDate\"] = pd.to_datetime(df_cleaned[\"InvoiceDate\"])"
   ]
  },
  {
   "cell_type": "code",
   "execution_count": 19,
   "id": "9bd03d39",
   "metadata": {},
   "outputs": [
    {
     "name": "stdout",
     "output_type": "stream",
     "text": [
      "<class 'pandas.core.frame.DataFrame'>\n",
      "Int64Index: 30711 entries, 0 to 49999\n",
      "Data columns (total 9 columns):\n",
      " #   Column       Non-Null Count  Dtype         \n",
      "---  ------       --------------  -----         \n",
      " 0   InvoiceNo    30711 non-null  object        \n",
      " 1   StockCode    30711 non-null  object        \n",
      " 2   Description  30711 non-null  object        \n",
      " 3   Quantity     30711 non-null  int64         \n",
      " 4   InvoiceDate  30711 non-null  datetime64[ns]\n",
      " 5   UnitPrice    30711 non-null  float64       \n",
      " 6   CustomerID   30711 non-null  float64       \n",
      " 7   Country      30711 non-null  object        \n",
      " 8   TotalPrice   30711 non-null  float64       \n",
      "dtypes: datetime64[ns](1), float64(3), int64(1), object(4)\n",
      "memory usage: 2.3+ MB\n"
     ]
    }
   ],
   "source": [
    "# Display the cleaned dataset info\n",
    "df_cleaned.info()"
   ]
  },
  {
   "cell_type": "markdown",
   "id": "818cb847",
   "metadata": {},
   "source": [
    "# 4. Feature Engineering (RFM)"
   ]
  },
  {
   "cell_type": "code",
   "execution_count": 21,
   "id": "3a40b378",
   "metadata": {},
   "outputs": [],
   "source": [
    "from datetime import timedelta"
   ]
  },
  {
   "cell_type": "code",
   "execution_count": 22,
   "id": "e0b72f13",
   "metadata": {},
   "outputs": [],
   "source": [
    "# Set the reference date for recency calculation (1 day after last invoice in this subset)\n",
    "reference_date = df_cleaned[\"InvoiceDate\"].max() + timedelta(days=1)"
   ]
  },
  {
   "cell_type": "code",
   "execution_count": 23,
   "id": "340e8f32",
   "metadata": {},
   "outputs": [],
   "source": [
    "# Group by CustomerID to compute RFM features\n",
    "rfm = df_cleaned.groupby(\"CustomerID\").agg({\n",
    "    \"InvoiceDate\": lambda x: (reference_date - x.max()).days,  # Recency\n",
    "    \"InvoiceNo\": \"nunique\",                                    # Frequency\n",
    "    \"TotalPrice\": \"sum\"                                        # Monetary\n",
    "}).reset_index()"
   ]
  },
  {
   "cell_type": "code",
   "execution_count": 24,
   "id": "0a578d6a",
   "metadata": {},
   "outputs": [],
   "source": [
    "# Rename columns\n",
    "rfm.columns = [\"CustomerID\", \"Recency\", \"Frequency\", \"Monetary\"]"
   ]
  },
  {
   "cell_type": "code",
   "execution_count": 25,
   "id": "e8996590",
   "metadata": {},
   "outputs": [
    {
     "data": {
      "text/html": [
       "<div>\n",
       "<style scoped>\n",
       "    .dataframe tbody tr th:only-of-type {\n",
       "        vertical-align: middle;\n",
       "    }\n",
       "\n",
       "    .dataframe tbody tr th {\n",
       "        vertical-align: top;\n",
       "    }\n",
       "\n",
       "    .dataframe thead th {\n",
       "        text-align: right;\n",
       "    }\n",
       "</style>\n",
       "<table border=\"1\" class=\"dataframe\">\n",
       "  <thead>\n",
       "    <tr style=\"text-align: right;\">\n",
       "      <th></th>\n",
       "      <th>CustomerID</th>\n",
       "      <th>Recency</th>\n",
       "      <th>Frequency</th>\n",
       "      <th>Monetary</th>\n",
       "    </tr>\n",
       "  </thead>\n",
       "  <tbody>\n",
       "    <tr>\n",
       "      <th>0</th>\n",
       "      <td>12347.0</td>\n",
       "      <td>34</td>\n",
       "      <td>1</td>\n",
       "      <td>711.79</td>\n",
       "    </tr>\n",
       "    <tr>\n",
       "      <th>1</th>\n",
       "      <td>12348.0</td>\n",
       "      <td>24</td>\n",
       "      <td>1</td>\n",
       "      <td>892.80</td>\n",
       "    </tr>\n",
       "    <tr>\n",
       "      <th>2</th>\n",
       "      <td>12370.0</td>\n",
       "      <td>24</td>\n",
       "      <td>2</td>\n",
       "      <td>1864.27</td>\n",
       "    </tr>\n",
       "    <tr>\n",
       "      <th>3</th>\n",
       "      <td>12377.0</td>\n",
       "      <td>21</td>\n",
       "      <td>1</td>\n",
       "      <td>1001.52</td>\n",
       "    </tr>\n",
       "    <tr>\n",
       "      <th>4</th>\n",
       "      <td>12383.0</td>\n",
       "      <td>19</td>\n",
       "      <td>1</td>\n",
       "      <td>600.72</td>\n",
       "    </tr>\n",
       "  </tbody>\n",
       "</table>\n",
       "</div>"
      ],
      "text/plain": [
       "   CustomerID  Recency  Frequency  Monetary\n",
       "0     12347.0       34          1    711.79\n",
       "1     12348.0       24          1    892.80\n",
       "2     12370.0       24          2   1864.27\n",
       "3     12377.0       21          1   1001.52\n",
       "4     12383.0       19          1    600.72"
      ]
     },
     "execution_count": 25,
     "metadata": {},
     "output_type": "execute_result"
    }
   ],
   "source": [
    "# Display top 5 records\n",
    "rfm.head()"
   ]
  },
  {
   "cell_type": "markdown",
   "id": "f3ed3254",
   "metadata": {},
   "source": [
    "# 5. Customer Segmentation (K-Means)"
   ]
  },
  {
   "cell_type": "code",
   "execution_count": 26,
   "id": "19eec78f",
   "metadata": {},
   "outputs": [],
   "source": [
    "from sklearn.preprocessing import StandardScaler\n",
    "from sklearn.cluster import KMeans"
   ]
  },
  {
   "cell_type": "code",
   "execution_count": 27,
   "id": "7c860260",
   "metadata": {},
   "outputs": [],
   "source": [
    "# --- Assuming `rfm` DataFrame with columns: Recency, Frequency, Monetary ---\n",
    "\n",
    "# Step 1: Normalize the RFM features\n",
    "scaler = StandardScaler()\n",
    "rfm_scaled = scaler.fit_transform(rfm[['Recency', 'Frequency', 'Monetary']])"
   ]
  },
  {
   "cell_type": "code",
   "execution_count": 29,
   "id": "b34485d1",
   "metadata": {},
   "outputs": [
    {
     "name": "stderr",
     "output_type": "stream",
     "text": [
      "C:\\Users\\Aarthy\\anaconda3\\lib\\site-packages\\sklearn\\cluster\\_kmeans.py:1036: UserWarning: KMeans is known to have a memory leak on Windows with MKL, when there are less chunks than available threads. You can avoid it by setting the environment variable OMP_NUM_THREADS=4.\n",
      "  warnings.warn(\n"
     ]
    }
   ],
   "source": [
    "# Step 2: Determine optimal number of clusters using Elbow Method\n",
    "sse = []\n",
    "for k in range(1, 11):\n",
    "    kmeans = KMeans(n_clusters=k, random_state=42, n_init=10)\n",
    "    kmeans.fit(rfm_scaled)\n",
    "    sse.append(kmeans.inertia_)"
   ]
  },
  {
   "cell_type": "code",
   "execution_count": 30,
   "id": "6cb0db56",
   "metadata": {},
   "outputs": [
    {
     "data": {
      "image/png": "[encoded data removed]",
      "text/plain": [
       "<Figure size 800x400 with 1 Axes>"
      ]
     },
     "metadata": {},
     "output_type": "display_data"
    }
   ],
   "source": [
    "# Plot SSE vs k to find the \"elbow\"\n",
    "plt.figure(figsize=(8, 4))\n",
    "plt.plot(range(1, 11), sse, marker='o')\n",
    "plt.title('Elbow Method for Optimal k')\n",
    "plt.xlabel('Number of clusters')\n",
    "plt.ylabel('SSE (Inertia)')\n",
    "plt.grid(True)\n",
    "plt.show()"
   ]
  },
  {
   "cell_type": "markdown",
   "id": "9bd21f22",
   "metadata": {},
   "source": [
    "From this elbow plot, choose the value of k where the SSE curve begins to flatten (commonly between 3 and 5)."
   ]
  },
  {
   "cell_type": "code",
   "execution_count": 31,
   "id": "f9626b0f",
   "metadata": {},
   "outputs": [],
   "source": [
    "# Step 3:Apply KMeans with Optimal Clusters (e.g., k=4)\n",
    "\n",
    "# Fit KMeans with selected k (e.g., 4)\n",
    "kmeans = KMeans(n_clusters=4, random_state=42, n_init=10)\n",
    "rfm['Cluster'] = kmeans.fit_predict(rfm_scaled)"
   ]
  },
  {
   "cell_type": "code",
   "execution_count": 32,
   "id": "a16fe5db",
   "metadata": {},
   "outputs": [],
   "source": [
    "# Analyze the clusters\n",
    "cluster_summary = rfm.groupby('Cluster').agg({\n",
    "    'Recency': 'mean',\n",
    "    'Frequency': 'mean',\n",
    "    'Monetary': 'mean',\n",
    "    'CustomerID': 'count'\n",
    "}).rename(columns={'CustomerID': 'CustomerCount'})"
   ]
  },
  {
   "cell_type": "code",
   "execution_count": 33,
   "id": "2b11c5da",
   "metadata": {},
   "outputs": [
    {
     "name": "stdout",
     "output_type": "stream",
     "text": [
      "           Recency  Frequency      Monetary  CustomerCount\n",
      "Cluster                                                   \n",
      "0         4.487805   2.209756   1037.384000            205\n",
      "1        30.350598   1.332005    435.079695            753\n",
      "2        21.000000  35.500000   4913.755000              2\n",
      "3        12.846154   6.923077  10226.010769             13\n"
     ]
    }
   ],
   "source": [
    "print(cluster_summary)\n"
   ]
  },
  {
   "cell_type": "code",
   "execution_count": 34,
   "id": "bcae68c5",
   "metadata": {},
   "outputs": [
    {
     "data": {
      "image/png": "[encoded data removed]",
      "text/plain": [
       "<Figure size 640x480 with 1 Axes>"
      ]
     },
     "metadata": {},
     "output_type": "display_data"
    }
   ],
   "source": [
    "# Step 4: Visualize the Segments\n",
    "\n",
    "# Plot clusters (Recency vs Monetary)\n",
    "sns.scatterplot(data=rfm, x='Recency', y='Monetary', hue='Cluster', palette='Set2')\n",
    "plt.title(\"Customer Segments (Recency vs Monetary)\")\n",
    "plt.xlabel(\"Recency (days)\")\n",
    "plt.ylabel(\"Monetary Value\")\n",
    "plt.show()"
   ]
  },
  {
   "cell_type": "markdown",
   "id": "dda0f2cb",
   "metadata": {},
   "source": [
    "# 6. Prediction Model (Regression for Future Spending)"
   ]
  },
  {
   "cell_type": "code",
   "execution_count": 35,
   "id": "9ca60c3a",
   "metadata": {},
   "outputs": [],
   "source": [
    "from sklearn.model_selection import train_test_split\n",
    "from sklearn.linear_model import LinearRegression\n",
    "from sklearn.tree import DecisionTreeRegressor\n",
    "from sklearn.metrics import mean_squared_error, r2_score"
   ]
  },
  {
   "cell_type": "code",
   "execution_count": 36,
   "id": "cee419f2",
   "metadata": {},
   "outputs": [],
   "source": [
    "# Step 1: Prepare the Data\n",
    "\n",
    "# Define features and target\n",
    "X = rfm[['Recency', 'Frequency']]\n",
    "y = rfm['Monetary']"
   ]
  },
  {
   "cell_type": "code",
   "execution_count": 37,
   "id": "ed297a5f",
   "metadata": {},
   "outputs": [],
   "source": [
    "# Split into training and testing sets\n",
    "X_train, X_test, y_train, y_test = train_test_split(X, y, test_size=0.2, random_state=42)"
   ]
  },
  {
   "cell_type": "code",
   "execution_count": 38,
   "id": "ad60113d",
   "metadata": {},
   "outputs": [
    {
     "data": {
      "text/plain": [
       "LinearRegression()"
      ]
     },
     "execution_count": 38,
     "metadata": {},
     "output_type": "execute_result"
    }
   ],
   "source": [
    "# Step 2: Linear Regression Model\n",
    "\n",
    "# Train a Linear Regression model\n",
    "lr_model = LinearRegression()\n",
    "lr_model.fit(X_train, y_train)"
   ]
  },
  {
   "cell_type": "code",
   "execution_count": 39,
   "id": "a427b8fb",
   "metadata": {},
   "outputs": [],
   "source": [
    "# Predict and evaluate\n",
    "y_pred_lr = lr_model.predict(X_test)"
   ]
  },
  {
   "cell_type": "code",
   "execution_count": 40,
   "id": "5e16b984",
   "metadata": {},
   "outputs": [
    {
     "name": "stdout",
     "output_type": "stream",
     "text": [
      "Linear Regression:\n",
      "RMSE: 1252.3286705590076\n",
      "R² Score: 0.08395790232806166\n"
     ]
    }
   ],
   "source": [
    "# Evaluation Metrics\n",
    "print(\"Linear Regression:\")\n",
    "print(\"RMSE:\", mean_squared_error(y_test, y_pred_lr, squared=False))\n",
    "print(\"R² Score:\", r2_score(y_test, y_pred_lr))"
   ]
  },
  {
   "cell_type": "code",
   "execution_count": 41,
   "id": "c830470b",
   "metadata": {},
   "outputs": [
    {
     "data": {
      "text/plain": [
       "DecisionTreeRegressor(max_depth=5, random_state=42)"
      ]
     },
     "execution_count": 41,
     "metadata": {},
     "output_type": "execute_result"
    }
   ],
   "source": [
    "#  Step 3: Decision Tree Regressor\n",
    "\n",
    "# Train a Decision Tree Regressor\n",
    "tree_model = DecisionTreeRegressor(max_depth=5, random_state=42)\n",
    "tree_model.fit(X_train, y_train)"
   ]
  },
  {
   "cell_type": "code",
   "execution_count": 42,
   "id": "c5513fea",
   "metadata": {},
   "outputs": [],
   "source": [
    "# Predict and evaluate\n",
    "y_pred_tree = tree_model.predict(X_test)"
   ]
  },
  {
   "cell_type": "code",
   "execution_count": 43,
   "id": "429aa6f9",
   "metadata": {},
   "outputs": [
    {
     "name": "stdout",
     "output_type": "stream",
     "text": [
      "\n",
      "Decision Tree Regressor:\n",
      "RMSE: 991.963039119068\n",
      "R² Score: 0.4252621925314387\n"
     ]
    }
   ],
   "source": [
    "print(\"\\nDecision Tree Regressor:\")\n",
    "print(\"RMSE:\", mean_squared_error(y_test, y_pred_tree, squared=False))\n",
    "print(\"R² Score:\", r2_score(y_test, y_pred_tree))"
   ]
  },
  {
   "cell_type": "markdown",
   "id": "1fe1cf25",
   "metadata": {},
   "source": [
    "# 7. Model Evaluation"
   ]
  },
  {
   "cell_type": "markdown",
   "id": "50c6f9a2",
   "metadata": {},
   "source": [
    "- RMSE (Root Mean Squared Error): Measures average prediction error. Lower values are better.\n",
    "\n",
    "- R² Score (Coefficient of Determination): Indicates how well the model explains the variability in spending. Closer to 1 is better."
   ]
  },
  {
   "cell_type": "markdown",
   "id": "3e55a213",
   "metadata": {},
   "source": [
    "- Linear Regression:\n",
    "    RMSE: 1252.33\n",
    "    R² Score: 0.084\n",
    "\n",
    "- Decision Tree Regressor:\n",
    "    RMSE: 991.96\n",
    "    R² Score: 0.420.71"
   ]
  },
  {
   "cell_type": "markdown",
   "id": "ec8f31a6",
   "metadata": {},
   "source": [
    "# 8. Insights & Recommendations"
   ]
  },
  {
   "cell_type": "markdown",
   "id": "2c7b315e",
   "metadata": {},
   "source": [
    "Based on Prediction Model (Monetary Value)\n",
    "- The Decision Tree predicted future spending based on recency and frequency.\n",
    "\n",
    "- Customers with recent and frequent purchases are likely to spend more.\n",
    "\n",
    "- Customers with high recency (long time since last purchase) may need nudges (personalized offers, cart reminders)."
   ]
  },
  {
   "cell_type": "code",
   "execution_count": null,
   "id": "7bcb4544",
   "metadata": {},
   "outputs": [],
   "source": []
  }
 ],
 "metadata": {
  "kernelspec": {
   "display_name": "Python 3 (ipykernel)",
   "language": "python",
   "name": "python3"
  },
  "language_info": {
   "codemirror_mode": {
    "name": "ipython",
    "version": 3
   },
   "file_extension": ".py",
   "mimetype": "text/x-python",
   "name": "python",
   "nbconvert_exporter": "python",
   "pygments_lexer": "ipython3",
   "version": "3.9.13"
  }
 },
 "nbformat": 4,
 "nbformat_minor": 5
}
